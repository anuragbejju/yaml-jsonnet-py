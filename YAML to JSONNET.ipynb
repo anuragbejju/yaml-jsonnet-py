{
 "cells": [
  {
   "cell_type": "markdown",
   "metadata": {},
   "source": [
    "## YML to JSONNET Notebook\n",
    "\n",
    " * **Developer**: Anurag Bejju\n",
    " * **Date Created**: May 6th 2021"
   ]
  },
  {
   "cell_type": "markdown",
   "metadata": {},
   "source": [
    "### Load packages and get list of files to be processed"
   ]
  },
  {
   "cell_type": "code",
   "execution_count": null,
   "metadata": {},
   "outputs": [],
   "source": [
    "import yaml as setting_yaml\n",
    "import utils.converter as yml_converter\n",
    "import utils.test as test\n",
    "import glob2\n",
    "from pathlib import Path\n",
    "from tqdm import tqdm\n",
    "\n",
    "settings = setting_yaml.safe_load(open(r\"settings.yaml\"))\n",
    "\n",
    "files = glob2.glob(settings[\"input_path\"]+\"**.yml\")\n",
    "files = [file for file in files if 'default.yml' in file] + \\\n",
    "        [file for file in files if 'default.yml'not in file] \n",
    "\n"
   ]
  },
  {
   "cell_type": "markdown",
   "metadata": {},
   "source": [
    "### Convert YML to JSONNET"
   ]
  },
  {
   "cell_type": "code",
   "execution_count": null,
   "metadata": {},
   "outputs": [],
   "source": [
    "for file in tqdm(files):\n",
    "    yml_converter.convert_yaml_to_jsonnet(file)"
   ]
  },
  {
   "cell_type": "markdown",
   "metadata": {},
   "source": [
    "### Unit test the converted file to ground truth"
   ]
  },
  {
   "cell_type": "code",
   "execution_count": null,
   "metadata": {},
   "outputs": [],
   "source": [
    "for file in tqdm(files):\n",
    "    test.match_file(file)"
   ]
  }
 ],
 "metadata": {
  "kernelspec": {
   "display_name": "Python 3",
   "language": "python",
   "name": "python3"
  },
  "language_info": {
   "codemirror_mode": {
    "name": "ipython",
    "version": 3
   },
   "file_extension": ".py",
   "mimetype": "text/x-python",
   "name": "python",
   "nbconvert_exporter": "python",
   "pygments_lexer": "ipython3",
   "version": "3.8.5"
  }
 },
 "nbformat": 4,
 "nbformat_minor": 4
}
